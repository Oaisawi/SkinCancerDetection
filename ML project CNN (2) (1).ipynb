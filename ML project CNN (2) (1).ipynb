{
 "cells": [
  {
   "cell_type": "code",
   "execution_count": 1,
   "id": "ec89e623-fdc7-4970-af91-28837b42bfaf",
   "metadata": {},
   "outputs": [
    {
     "name": "stdout",
     "output_type": "stream",
     "text": [
      "Requirement already satisfied: opencv-contrib-python in c:\\users\\asus\\anaconda3\\lib\\site-packages (4.10.0.84)\n",
      "Requirement already satisfied: numpy>=1.21.2 in c:\\users\\asus\\anaconda3\\lib\\site-packages (from opencv-contrib-python) (1.26.4)\n",
      "Note: you may need to restart the kernel to use updated packages.\n"
     ]
    }
   ],
   "source": [
    "pip install opencv-contrib-python"
   ]
  },
  {
   "cell_type": "code",
   "execution_count": 5,
   "id": "fe288ae0-e6e3-4047-9cb3-f29d334070b9",
   "metadata": {},
   "outputs": [],
   "source": [
    "from tensorflow.keras.preprocessing.image import ImageDataGenerator\n",
    "from tensorflow.keras.utils import img_to_array, load_img\n",
    "import numpy as np\n",
    "import pandas as pd"
   ]
  },
  {
   "cell_type": "code",
   "execution_count": 7,
   "id": "67ecc585-de7c-4c94-a230-f98e52b5ce50",
   "metadata": {},
   "outputs": [
    {
     "name": "stderr",
     "output_type": "stream",
     "text": [
      "C:\\Users\\ASUS\\AppData\\Local\\Temp\\ipykernel_21056\\3796003563.py:3: DtypeWarning: Columns (51,52) have mixed types. Specify dtype option on import or set low_memory=False.\n",
      "  metadata = pd.read_csv(metadata_path)\n"
     ]
    }
   ],
   "source": [
    "# Load the metadata\n",
    "metadata_path = \"C:\\\\Users\\\\ASUS\\\\Desktop\\\\ML project\\\\train-metadata.csv\"  # Replace with the actual path\n",
    "metadata = pd.read_csv(metadata_path)"
   ]
  },
  {
   "cell_type": "code",
   "execution_count": 9,
   "id": "4b603355-3952-4530-b791-955c5da8a490",
   "metadata": {},
   "outputs": [
    {
     "name": "stdout",
     "output_type": "stream",
     "text": [
      "        isic_id  target  patient_id  age_approx   sex anatom_site_general  \\\n",
      "0  ISIC_0015670       0  IP_1235828        60.0  male     lower extremity   \n",
      "1  ISIC_0015845       0  IP_8170065        60.0  male           head/neck   \n",
      "2  ISIC_0015864       0  IP_6724798        60.0  male     posterior torso   \n",
      "3  ISIC_0015902       0  IP_4111386        65.0  male      anterior torso   \n",
      "4  ISIC_0024200       0  IP_8313778        55.0  male      anterior torso   \n",
      "\n",
      "   clin_size_long_diam_mm          image_type tbp_tile_type   tbp_lv_A  ...  \\\n",
      "0                    3.04  TBP tile: close-up     3D: white  20.244422  ...   \n",
      "1                    1.10  TBP tile: close-up     3D: white  31.712570  ...   \n",
      "2                    3.40  TBP tile: close-up        3D: XP  22.575830  ...   \n",
      "3                    3.22  TBP tile: close-up        3D: XP  14.242329  ...   \n",
      "4                    2.73  TBP tile: close-up     3D: white  24.725520  ...   \n",
      "\n",
      "    lesion_id  iddx_full  iddx_1  iddx_2  iddx_3  iddx_4  iddx_5  \\\n",
      "0         NaN     Benign  Benign     NaN     NaN     NaN     NaN   \n",
      "1  IL_6727506     Benign  Benign     NaN     NaN     NaN     NaN   \n",
      "2         NaN     Benign  Benign     NaN     NaN     NaN     NaN   \n",
      "3         NaN     Benign  Benign     NaN     NaN     NaN     NaN   \n",
      "4         NaN     Benign  Benign     NaN     NaN     NaN     NaN   \n",
      "\n",
      "   mel_mitotic_index  mel_thick_mm  tbp_lv_dnn_lesion_confidence  \n",
      "0                NaN           NaN                     97.517282  \n",
      "1                NaN           NaN                      3.141455  \n",
      "2                NaN           NaN                     99.804040  \n",
      "3                NaN           NaN                     99.989998  \n",
      "4                NaN           NaN                     70.442510  \n",
      "\n",
      "[5 rows x 55 columns]\n",
      "target\n",
      "0    400666\n",
      "1       393\n",
      "Name: count, dtype: int64\n"
     ]
    }
   ],
   "source": [
    "# Verify the dataset structure\n",
    "print(metadata.head())\n",
    "print(metadata['target'].value_counts())  # Ensure target column is correctly loaded"
   ]
  },
  {
   "cell_type": "code",
   "execution_count": 11,
   "id": "65065281-5596-4e29-9e15-6fe3d7e03d07",
   "metadata": {},
   "outputs": [
    {
     "name": "stdout",
     "output_type": "stream",
     "text": [
      "Majority class size: 400666\n",
      "Minority class size: 393\n"
     ]
    }
   ],
   "source": [
    "# Separate majority and minority classes\n",
    "majority = metadata[metadata['target'] == 0]\n",
    "minority = metadata[metadata['target'] == 1]\n",
    "\n",
    "print(f\"Majority class size: {len(majority)}\")\n",
    "print(f\"Minority class size: {len(minority)}\")\n"
   ]
  },
  {
   "cell_type": "code",
   "execution_count": 13,
   "id": "fa9ded39-2084-45b7-9243-12ce303e246a",
   "metadata": {},
   "outputs": [],
   "source": [
    "from tensorflow.keras.preprocessing.image import ImageDataGenerator, img_to_array, load_img\n",
    "import numpy as np\n",
    "import os\n",
    "\n",
    "def load_images(image_ids, folder, target_size=(224, 224)):\n",
    "    images = []\n",
    "    for image_id in image_ids:\n",
    "        image_path = os.path.join(folder, f\"{image_id}.jpg\")  # Adjust file extension if necessary\n",
    "        if os.path.exists(image_path):\n",
    "            img = load_img(image_path, target_size=target_size)\n",
    "            img_array = img_to_array(img)\n",
    "            images.append(img_array)\n",
    "    return np.array(images)\n",
    "\n",
    "# Load minority class images\n",
    "minority_images = load_images(minority['isic_id'], \"C:\\\\Users\\\\ASUS\\\\Desktop\\\\ML project\\\\image\")\n"
   ]
  },
  {
   "cell_type": "code",
   "execution_count": 20,
   "id": "c1f14b25-6c4a-4818-bef9-c640cdfd2514",
   "metadata": {},
   "outputs": [
    {
     "ename": "KeyboardInterrupt",
     "evalue": "",
     "output_type": "error",
     "traceback": [
      "\u001b[1;31m---------------------------------------------------------------------------\u001b[0m",
      "\u001b[1;31mKeyboardInterrupt\u001b[0m                         Traceback (most recent call last)",
      "Cell \u001b[1;32mIn[20], line 26\u001b[0m\n\u001b[0;32m     24\u001b[0m img \u001b[38;5;241m=\u001b[39m img\u001b[38;5;241m.\u001b[39mreshape((\u001b[38;5;241m1\u001b[39m,) \u001b[38;5;241m+\u001b[39m img\u001b[38;5;241m.\u001b[39mshape)  \u001b[38;5;66;03m# Reshape for the generator\u001b[39;00m\n\u001b[0;32m     25\u001b[0m i \u001b[38;5;241m=\u001b[39m \u001b[38;5;241m0\u001b[39m\n\u001b[1;32m---> 26\u001b[0m \u001b[38;5;28;01mfor\u001b[39;00m batch \u001b[38;5;129;01min\u001b[39;00m datagen\u001b[38;5;241m.\u001b[39mflow(img, batch_size\u001b[38;5;241m=\u001b[39m\u001b[38;5;241m1\u001b[39m, save_to_dir\u001b[38;5;241m=\u001b[39maugmented_folder, save_prefix\u001b[38;5;241m=\u001b[39m\u001b[38;5;124mf\u001b[39m\u001b[38;5;124m\"\u001b[39m\u001b[38;5;132;01m{\u001b[39;00mimg_id\u001b[38;5;132;01m}\u001b[39;00m\u001b[38;5;124m_aug\u001b[39m\u001b[38;5;124m\"\u001b[39m, save_format\u001b[38;5;241m=\u001b[39m\u001b[38;5;124m\"\u001b[39m\u001b[38;5;124mjpg\u001b[39m\u001b[38;5;124m\"\u001b[39m):\n\u001b[0;32m     27\u001b[0m     i \u001b[38;5;241m+\u001b[39m\u001b[38;5;241m=\u001b[39m \u001b[38;5;241m1\u001b[39m\n\u001b[0;32m     28\u001b[0m     image_counter \u001b[38;5;241m+\u001b[39m\u001b[38;5;241m=\u001b[39m \u001b[38;5;241m1\u001b[39m\n",
      "File \u001b[1;32m~\\anaconda3\\Lib\\site-packages\\keras\\src\\legacy\\preprocessing\\image.py:112\u001b[0m, in \u001b[0;36mIterator.__next__\u001b[1;34m(self)\u001b[0m\n\u001b[0;32m    109\u001b[0m     index_array \u001b[38;5;241m=\u001b[39m \u001b[38;5;28mnext\u001b[39m(\u001b[38;5;28mself\u001b[39m\u001b[38;5;241m.\u001b[39mindex_generator)\n\u001b[0;32m    110\u001b[0m \u001b[38;5;66;03m# The transformation of images is not under thread lock\u001b[39;00m\n\u001b[0;32m    111\u001b[0m \u001b[38;5;66;03m# so it can be done in parallel\u001b[39;00m\n\u001b[1;32m--> 112\u001b[0m \u001b[38;5;28;01mreturn\u001b[39;00m \u001b[38;5;28mself\u001b[39m\u001b[38;5;241m.\u001b[39m_get_batches_of_transformed_samples(index_array)\n",
      "File \u001b[1;32m~\\anaconda3\\Lib\\site-packages\\keras\\src\\legacy\\preprocessing\\image.py:654\u001b[0m, in \u001b[0;36mNumpyArrayIterator._get_batches_of_transformed_samples\u001b[1;34m(self, index_array)\u001b[0m\n\u001b[0;32m    652\u001b[0m x \u001b[38;5;241m=\u001b[39m \u001b[38;5;28mself\u001b[39m\u001b[38;5;241m.\u001b[39mx[j]\n\u001b[0;32m    653\u001b[0m params \u001b[38;5;241m=\u001b[39m \u001b[38;5;28mself\u001b[39m\u001b[38;5;241m.\u001b[39mimage_data_generator\u001b[38;5;241m.\u001b[39mget_random_transform(x\u001b[38;5;241m.\u001b[39mshape)\n\u001b[1;32m--> 654\u001b[0m x \u001b[38;5;241m=\u001b[39m \u001b[38;5;28mself\u001b[39m\u001b[38;5;241m.\u001b[39mimage_data_generator\u001b[38;5;241m.\u001b[39mapply_transform(\n\u001b[0;32m    655\u001b[0m     x\u001b[38;5;241m.\u001b[39mastype(\u001b[38;5;28mself\u001b[39m\u001b[38;5;241m.\u001b[39mdtype), params\n\u001b[0;32m    656\u001b[0m )\n\u001b[0;32m    657\u001b[0m x \u001b[38;5;241m=\u001b[39m \u001b[38;5;28mself\u001b[39m\u001b[38;5;241m.\u001b[39mimage_data_generator\u001b[38;5;241m.\u001b[39mstandardize(x)\n\u001b[0;32m    658\u001b[0m batch_x[i] \u001b[38;5;241m=\u001b[39m x\n",
      "File \u001b[1;32m~\\anaconda3\\Lib\\site-packages\\keras\\src\\legacy\\preprocessing\\image.py:1413\u001b[0m, in \u001b[0;36mImageDataGenerator.apply_transform\u001b[1;34m(self, x, transform_parameters)\u001b[0m\n\u001b[0;32m   1410\u001b[0m img_col_axis \u001b[38;5;241m=\u001b[39m \u001b[38;5;28mself\u001b[39m\u001b[38;5;241m.\u001b[39mcol_axis \u001b[38;5;241m-\u001b[39m \u001b[38;5;241m1\u001b[39m\n\u001b[0;32m   1411\u001b[0m img_channel_axis \u001b[38;5;241m=\u001b[39m \u001b[38;5;28mself\u001b[39m\u001b[38;5;241m.\u001b[39mchannel_axis \u001b[38;5;241m-\u001b[39m \u001b[38;5;241m1\u001b[39m\n\u001b[1;32m-> 1413\u001b[0m x \u001b[38;5;241m=\u001b[39m apply_affine_transform(\n\u001b[0;32m   1414\u001b[0m     x,\n\u001b[0;32m   1415\u001b[0m     transform_parameters\u001b[38;5;241m.\u001b[39mget(\u001b[38;5;124m\"\u001b[39m\u001b[38;5;124mtheta\u001b[39m\u001b[38;5;124m\"\u001b[39m, \u001b[38;5;241m0\u001b[39m),\n\u001b[0;32m   1416\u001b[0m     transform_parameters\u001b[38;5;241m.\u001b[39mget(\u001b[38;5;124m\"\u001b[39m\u001b[38;5;124mtx\u001b[39m\u001b[38;5;124m\"\u001b[39m, \u001b[38;5;241m0\u001b[39m),\n\u001b[0;32m   1417\u001b[0m     transform_parameters\u001b[38;5;241m.\u001b[39mget(\u001b[38;5;124m\"\u001b[39m\u001b[38;5;124mty\u001b[39m\u001b[38;5;124m\"\u001b[39m, \u001b[38;5;241m0\u001b[39m),\n\u001b[0;32m   1418\u001b[0m     transform_parameters\u001b[38;5;241m.\u001b[39mget(\u001b[38;5;124m\"\u001b[39m\u001b[38;5;124mshear\u001b[39m\u001b[38;5;124m\"\u001b[39m, \u001b[38;5;241m0\u001b[39m),\n\u001b[0;32m   1419\u001b[0m     transform_parameters\u001b[38;5;241m.\u001b[39mget(\u001b[38;5;124m\"\u001b[39m\u001b[38;5;124mzx\u001b[39m\u001b[38;5;124m\"\u001b[39m, \u001b[38;5;241m1\u001b[39m),\n\u001b[0;32m   1420\u001b[0m     transform_parameters\u001b[38;5;241m.\u001b[39mget(\u001b[38;5;124m\"\u001b[39m\u001b[38;5;124mzy\u001b[39m\u001b[38;5;124m\"\u001b[39m, \u001b[38;5;241m1\u001b[39m),\n\u001b[0;32m   1421\u001b[0m     row_axis\u001b[38;5;241m=\u001b[39mimg_row_axis,\n\u001b[0;32m   1422\u001b[0m     col_axis\u001b[38;5;241m=\u001b[39mimg_col_axis,\n\u001b[0;32m   1423\u001b[0m     channel_axis\u001b[38;5;241m=\u001b[39mimg_channel_axis,\n\u001b[0;32m   1424\u001b[0m     fill_mode\u001b[38;5;241m=\u001b[39m\u001b[38;5;28mself\u001b[39m\u001b[38;5;241m.\u001b[39mfill_mode,\n\u001b[0;32m   1425\u001b[0m     cval\u001b[38;5;241m=\u001b[39m\u001b[38;5;28mself\u001b[39m\u001b[38;5;241m.\u001b[39mcval,\n\u001b[0;32m   1426\u001b[0m     order\u001b[38;5;241m=\u001b[39m\u001b[38;5;28mself\u001b[39m\u001b[38;5;241m.\u001b[39minterpolation_order,\n\u001b[0;32m   1427\u001b[0m )\n\u001b[0;32m   1429\u001b[0m \u001b[38;5;28;01mif\u001b[39;00m transform_parameters\u001b[38;5;241m.\u001b[39mget(\u001b[38;5;124m\"\u001b[39m\u001b[38;5;124mchannel_shift_intensity\u001b[39m\u001b[38;5;124m\"\u001b[39m) \u001b[38;5;129;01mis\u001b[39;00m \u001b[38;5;129;01mnot\u001b[39;00m \u001b[38;5;28;01mNone\u001b[39;00m:\n\u001b[0;32m   1430\u001b[0m     x \u001b[38;5;241m=\u001b[39m apply_channel_shift(\n\u001b[0;32m   1431\u001b[0m         x,\n\u001b[0;32m   1432\u001b[0m         transform_parameters[\u001b[38;5;124m\"\u001b[39m\u001b[38;5;124mchannel_shift_intensity\u001b[39m\u001b[38;5;124m\"\u001b[39m],\n\u001b[0;32m   1433\u001b[0m         img_channel_axis,\n\u001b[0;32m   1434\u001b[0m     )\n",
      "File \u001b[1;32m~\\anaconda3\\Lib\\site-packages\\keras\\src\\legacy\\preprocessing\\image.py:1880\u001b[0m, in \u001b[0;36mapply_affine_transform\u001b[1;34m(x, theta, tx, ty, shear, zx, zy, row_axis, col_axis, channel_axis, fill_mode, cval, order)\u001b[0m\n\u001b[0;32m   1876\u001b[0m final_affine_matrix \u001b[38;5;241m=\u001b[39m transform_matrix[:\u001b[38;5;241m2\u001b[39m, :\u001b[38;5;241m2\u001b[39m]\n\u001b[0;32m   1877\u001b[0m final_offset \u001b[38;5;241m=\u001b[39m transform_matrix[:\u001b[38;5;241m2\u001b[39m, \u001b[38;5;241m2\u001b[39m]\n\u001b[0;32m   1879\u001b[0m channel_images \u001b[38;5;241m=\u001b[39m [\n\u001b[1;32m-> 1880\u001b[0m     scipy\u001b[38;5;241m.\u001b[39mndimage\u001b[38;5;241m.\u001b[39minterpolation\u001b[38;5;241m.\u001b[39maffine_transform(\n\u001b[0;32m   1881\u001b[0m         x_channel,\n\u001b[0;32m   1882\u001b[0m         final_affine_matrix,\n\u001b[0;32m   1883\u001b[0m         final_offset,\n\u001b[0;32m   1884\u001b[0m         order\u001b[38;5;241m=\u001b[39morder,\n\u001b[0;32m   1885\u001b[0m         mode\u001b[38;5;241m=\u001b[39mfill_mode,\n\u001b[0;32m   1886\u001b[0m         cval\u001b[38;5;241m=\u001b[39mcval,\n\u001b[0;32m   1887\u001b[0m     )\n\u001b[0;32m   1888\u001b[0m     \u001b[38;5;28;01mfor\u001b[39;00m x_channel \u001b[38;5;129;01min\u001b[39;00m x\n\u001b[0;32m   1889\u001b[0m ]\n\u001b[0;32m   1890\u001b[0m x \u001b[38;5;241m=\u001b[39m np\u001b[38;5;241m.\u001b[39mstack(channel_images, axis\u001b[38;5;241m=\u001b[39m\u001b[38;5;241m0\u001b[39m)\n\u001b[0;32m   1891\u001b[0m x \u001b[38;5;241m=\u001b[39m np\u001b[38;5;241m.\u001b[39mrollaxis(x, \u001b[38;5;241m0\u001b[39m, channel_axis \u001b[38;5;241m+\u001b[39m \u001b[38;5;241m1\u001b[39m)\n",
      "File \u001b[1;32m~\\anaconda3\\Lib\\site-packages\\scipy\\ndimage\\_interpolation.py:628\u001b[0m, in \u001b[0;36maffine_transform\u001b[1;34m(input, matrix, offset, output_shape, output, order, mode, cval, prefilter)\u001b[0m\n\u001b[0;32m    625\u001b[0m     _nd_image\u001b[38;5;241m.\u001b[39mzoom_shift(filtered, matrix, offset\u001b[38;5;241m/\u001b[39mmatrix, output, order,\n\u001b[0;32m    626\u001b[0m                          mode, cval, npad, \u001b[38;5;28;01mFalse\u001b[39;00m)\n\u001b[0;32m    627\u001b[0m \u001b[38;5;28;01melse\u001b[39;00m:\n\u001b[1;32m--> 628\u001b[0m     _nd_image\u001b[38;5;241m.\u001b[39mgeometric_transform(filtered, \u001b[38;5;28;01mNone\u001b[39;00m, \u001b[38;5;28;01mNone\u001b[39;00m, matrix, offset,\n\u001b[0;32m    629\u001b[0m                                   output, order, mode, cval, npad, \u001b[38;5;28;01mNone\u001b[39;00m,\n\u001b[0;32m    630\u001b[0m                                   \u001b[38;5;28;01mNone\u001b[39;00m)\n\u001b[0;32m    631\u001b[0m \u001b[38;5;28;01mreturn\u001b[39;00m output\n",
      "\u001b[1;31mKeyboardInterrupt\u001b[0m: "
     ]
    }
   ],
   "source": [
    "import os\n",
    "from tensorflow.keras.preprocessing.image import ImageDataGenerator\n",
    "\n",
    "# Define a folder to save augmented images\n",
    "augmented_folder = \"C:\\\\Users\\\\ASUS\\\\Desktop\\\\ML project\\\\augmented_images\"\n",
    "os.makedirs(augmented_folder, exist_ok=True)  # Create the folder if it doesn't exist\n",
    "\n",
    "# Initialize the ImageDataGenerator for augmentation\n",
    "datagen = ImageDataGenerator(\n",
    "    rotation_range=20,\n",
    "    width_shift_range=0.2,\n",
    "    height_shift_range=0.2,\n",
    "    shear_range=0.2,\n",
    "    zoom_range=0.2,\n",
    "    horizontal_flip=True,\n",
    "    fill_mode='nearest'\n",
    ")\n",
    "\n",
    "# Augment and save minority class images\n",
    "num_augments = len(majority) - len(minority)  # Target number of augmented samples\n",
    "image_counter = 0  # Counter for naming augmented images\n",
    "\n",
    "for img, img_id in zip(minority_images, minority['isic_id']):\n",
    "    img = img.reshape((1,) + img.shape)  # Reshape for the generator\n",
    "    i = 0\n",
    "    for batch in datagen.flow(img, batch_size=1, save_to_dir=augmented_folder, save_prefix=f\"{img_id}_aug\", save_format=\"jpg\"):\n",
    "        i += 1\n",
    "        image_counter += 1\n",
    "        if i >= num_augments // len(minority_images):  # Generate required number of augmentations\n",
    "            break\n",
    "\n",
    "print(f\"Saved {image_counter} augmented images to {augmented_folder}\")\n"
   ]
  },
  {
   "cell_type": "code",
   "execution_count": 15,
   "id": "54b691b0-3e82-4ccd-a3f7-fa14e6181c8f",
   "metadata": {},
   "outputs": [],
   "source": [
    "# Sample 50K from the majority class\n",
    "majority_50k = majority.sample(n=50000, random_state=42)  # `majority` is the DataFrame for target=0"
   ]
  },
  {
   "cell_type": "code",
   "execution_count": 17,
   "id": "2bd05267-874b-43b9-a827-0686f556adf5",
   "metadata": {},
   "outputs": [],
   "source": [
    "import os\n",
    "import pandas as pd\n",
    "\n",
    "# List all augmented images\n",
    "augmented_images = os.listdir(\"C:\\\\Users\\\\ASUS\\\\Desktop\\\\ML project\\\\augmented_images\")\n",
    "augmented_image_ids = [os.path.splitext(f)[0] for f in augmented_images]  # Remove file extensions\n",
    "\n",
    "# Create metadata for augmented images\n",
    "augmented_metadata = pd.DataFrame({'isic_id': augmented_image_ids, 'target': 1})\n",
    "\n",
    "# Sample 50K augmented images\n",
    "augmented_50k = augmented_metadata.sample(n=50000, random_state=42)\n"
   ]
  },
  {
   "cell_type": "code",
   "execution_count": 18,
   "id": "1a394bba-427a-4700-92eb-99d56cbd5cae",
   "metadata": {},
   "outputs": [
    {
     "name": "stdout",
     "output_type": "stream",
     "text": [
      "Balanced Dataset Class Distribution:\n",
      "target\n",
      "1    50000\n",
      "0    50000\n",
      "Name: count, dtype: int64\n"
     ]
    }
   ],
   "source": [
    "# Combine original majority and augmented minority data\n",
    "balanced_metadata = pd.concat([majority_50k, augmented_50k]).reset_index(drop=True)\n",
    "\n",
    "# Shuffle the dataset\n",
    "balanced_metadata = balanced_metadata.sample(frac=1, random_state=42).reset_index(drop=True)\n",
    "\n",
    "# Verify class distribution\n",
    "print(\"Balanced Dataset Class Distribution:\")\n",
    "print(balanced_metadata['target'].value_counts())\n"
   ]
  },
  {
   "cell_type": "code",
   "execution_count": 21,
   "id": "d12bded0-e9b2-49ad-b6cc-a48dba1788ea",
   "metadata": {},
   "outputs": [
    {
     "name": "stdout",
     "output_type": "stream",
     "text": [
      "Loaded a batch of 32 images.\n"
     ]
    }
   ],
   "source": [
    "import numpy as np\n",
    "from tensorflow.keras.preprocessing.image import img_to_array, load_img\n",
    "import os\n",
    "\n",
    "# Paths to the original and augmented image folders\n",
    "original_folder = \"C:\\\\Users\\\\ASUS\\\\Desktop\\\\ML project\\\\image\"  # Folder for original images\n",
    "augmented_folder = \"C:\\\\Users\\\\ASUS\\\\Desktop\\\\ML project\\\\augmented_images\"  # Folder for augmented images\n",
    "\n",
    "\n",
    "# Create a combined folder path metadata column\n",
    "balanced_metadata['image_path'] = balanced_metadata['isic_id'].apply(\n",
    "    lambda x: os.path.join(original_folder, f\"{x}.jpg\") if os.path.exists(os.path.join(original_folder, f\"{x}.jpg\"))\n",
    "    else os.path.join(augmented_folder, f\"{x}.jpg\")\n",
    ")\n",
    "\n",
    "# Initialize the ImageDataGenerator\n",
    "datagen = ImageDataGenerator(rescale=1./255)\n",
    "\n",
    "# Create a generator for the dataset\n",
    "def data_generator(metadata, datagen, batch_size=32, target_size=(224, 224)):\n",
    "    while True:\n",
    "        for i in range(0, len(metadata), batch_size):\n",
    "            batch = metadata.iloc[i:i + batch_size]\n",
    "            images = []\n",
    "            labels = []\n",
    "            for _, row in batch.iterrows():\n",
    "                if os.path.exists(row['image_path']):\n",
    "                    img = load_img(row['image_path'], target_size=target_size)\n",
    "                    img_array = img_to_array(img) / 255.0\n",
    "                    images.append(img_array)\n",
    "                    labels.append(row['target'])\n",
    "            yield np.array(images), np.array(labels)\n",
    "\n",
    "# Initialize train generator\n",
    "train_generator = data_generator(balanced_metadata, datagen, batch_size=32)\n",
    "\n",
    "# Example: Load a batch\n",
    "images, labels = next(train_generator)\n",
    "print(f\"Loaded a batch of {len(images)} images.\")\n"
   ]
  },
  {
   "cell_type": "code",
   "execution_count": 23,
   "id": "6dff7601-9c0d-4ca4-9def-7e9f48f6c343",
   "metadata": {},
   "outputs": [
    {
     "name": "stdout",
     "output_type": "stream",
     "text": [
      "Train set: 70000\n",
      "Validation set: 15000\n",
      "Test set: 15000\n"
     ]
    }
   ],
   "source": [
    "from sklearn.model_selection import train_test_split\n",
    "\n",
    "# Split combined metadata into train, validation, and test sets\n",
    "train_metadata, temp_metadata = train_test_split(\n",
    "    balanced_metadata, test_size=0.3, stratify=balanced_metadata['target'], random_state=42\n",
    ")\n",
    "\n",
    "val_metadata, test_metadata = train_test_split(\n",
    "    temp_metadata, test_size=0.5, stratify=temp_metadata['target'], random_state=42\n",
    ")\n",
    "\n",
    "print(f\"Train set: {len(train_metadata)}\")\n",
    "print(f\"Validation set: {len(val_metadata)}\")\n",
    "print(f\"Test set: {len(test_metadata)}\")\n"
   ]
  },
  {
   "cell_type": "code",
   "execution_count": 25,
   "id": "90f8b28b-c263-499d-83f4-57a59ea215d6",
   "metadata": {},
   "outputs": [],
   "source": [
    "from tensorflow.keras.preprocessing.image import ImageDataGenerator\n",
    "\n",
    "# Define ImageDataGenerator for rescaling pixel values\n",
    "datagen = ImageDataGenerator(rescale=1./255)  # Normalize pixel values to [0, 1]\n",
    "\n",
    "# Define the batch size\n",
    "batch_size = 32\n",
    "\n",
    "# Define a generator function\n",
    "def data_generator(metadata, datagen, batch_size=32, target_size=(224, 224)):\n",
    "    \"\"\"\n",
    "    Generator for loading images in batches during training and validation.\n",
    "    \"\"\"\n",
    "    while True:\n",
    "        for i in range(0, len(metadata), batch_size):\n",
    "            batch = metadata.iloc[i:i + batch_size]  # Select a batch of metadata\n",
    "            images = []\n",
    "            labels = []\n",
    "            for _, row in batch.iterrows():\n",
    "                image_path = row['image_path']  # Precomputed file paths\n",
    "                if os.path.exists(image_path):\n",
    "                    img = load_img(image_path, target_size=target_size)\n",
    "                    img_array = img_to_array(img) / 255.0  # Normalize pixel values\n",
    "                    images.append(img_array)\n",
    "                    labels.append(row['target'])\n",
    "            yield np.array(images), np.array(labels)\n"
   ]
  },
  {
   "cell_type": "code",
   "execution_count": 27,
   "id": "34c2d670-bcb1-40e1-8a45-b9212a9a5d55",
   "metadata": {},
   "outputs": [],
   "source": [
    "# Define the generators\n",
    "train_generator = data_generator(train_metadata, datagen, batch_size=batch_size)\n",
    "val_generator = data_generator(val_metadata, datagen, batch_size=batch_size)"
   ]
  },
  {
   "cell_type": "code",
   "execution_count": 29,
   "id": "82f2dce8-9cc9-41f9-839e-b26530ac3f9b",
   "metadata": {},
   "outputs": [
    {
     "name": "stdout",
     "output_type": "stream",
     "text": [
      "Training set size: 80000\n",
      "Validation set size: 20000\n"
     ]
    }
   ],
   "source": [
    "from sklearn.model_selection import train_test_split\n",
    "\n",
    "# Split balanced_metadata into training and validation sets\n",
    "train_metadata, val_metadata = train_test_split(\n",
    "    balanced_metadata, \n",
    "    test_size=0.2, \n",
    "    stratify=balanced_metadata['target'], \n",
    "    random_state=42\n",
    ")\n",
    "\n",
    "print(f\"Training set size: {len(train_metadata)}\")\n",
    "print(f\"Validation set size: {len(val_metadata)}\")\n"
   ]
  },
  {
   "cell_type": "code",
   "execution_count": 31,
   "id": "7d710f0a-5088-41e6-ba0c-cd67e4203c33",
   "metadata": {},
   "outputs": [
    {
     "name": "stdout",
     "output_type": "stream",
     "text": [
      "Steps per epoch (training): 2500\n",
      "Validation steps: 625\n"
     ]
    }
   ],
   "source": [
    "# Define batch size\n",
    "batch_size = 32\n",
    "\n",
    "# Steps per epoch for training and validation\n",
    "steps_per_epoch = len(train_metadata) // batch_size\n",
    "validation_steps = len(val_metadata) // batch_size\n",
    "\n",
    "print(f\"Steps per epoch (training): {steps_per_epoch}\")\n",
    "print(f\"Validation steps: {validation_steps}\")\n"
   ]
  },
  {
   "cell_type": "code",
   "execution_count": 33,
   "id": "aba88e8f-6bc0-48f4-b417-f875ee4578e4",
   "metadata": {},
   "outputs": [
    {
     "name": "stderr",
     "output_type": "stream",
     "text": [
      "C:\\Users\\ASUS\\anaconda3\\Lib\\site-packages\\keras\\src\\layers\\convolutional\\base_conv.py:107: UserWarning: Do not pass an `input_shape`/`input_dim` argument to a layer. When using Sequential models, prefer using an `Input(shape)` object as the first layer in the model instead.\n",
      "  super().__init__(activity_regularizer=activity_regularizer, **kwargs)\n"
     ]
    },
    {
     "data": {
      "text/html": [
       "<pre style=\"white-space:pre;overflow-x:auto;line-height:normal;font-family:Menlo,'DejaVu Sans Mono',consolas,'Courier New',monospace\"><span style=\"font-weight: bold\">Model: \"sequential\"</span>\n",
       "</pre>\n"
      ],
      "text/plain": [
       "\u001b[1mModel: \"sequential\"\u001b[0m\n"
      ]
     },
     "metadata": {},
     "output_type": "display_data"
    },
    {
     "data": {
      "text/html": [
       "<pre style=\"white-space:pre;overflow-x:auto;line-height:normal;font-family:Menlo,'DejaVu Sans Mono',consolas,'Courier New',monospace\">┏━━━━━━━━━━━━━━━━━━━━━━━━━━━━━━━━━┳━━━━━━━━━━━━━━━━━━━━━━━━┳━━━━━━━━━━━━━━━┓\n",
       "┃<span style=\"font-weight: bold\"> Layer (type)                    </span>┃<span style=\"font-weight: bold\"> Output Shape           </span>┃<span style=\"font-weight: bold\">       Param # </span>┃\n",
       "┡━━━━━━━━━━━━━━━━━━━━━━━━━━━━━━━━━╇━━━━━━━━━━━━━━━━━━━━━━━━╇━━━━━━━━━━━━━━━┩\n",
       "│ conv2d (<span style=\"color: #0087ff; text-decoration-color: #0087ff\">Conv2D</span>)                 │ (<span style=\"color: #00d7ff; text-decoration-color: #00d7ff\">None</span>, <span style=\"color: #00af00; text-decoration-color: #00af00\">222</span>, <span style=\"color: #00af00; text-decoration-color: #00af00\">222</span>, <span style=\"color: #00af00; text-decoration-color: #00af00\">32</span>)   │           <span style=\"color: #00af00; text-decoration-color: #00af00\">896</span> │\n",
       "├─────────────────────────────────┼────────────────────────┼───────────────┤\n",
       "│ max_pooling2d (<span style=\"color: #0087ff; text-decoration-color: #0087ff\">MaxPooling2D</span>)    │ (<span style=\"color: #00d7ff; text-decoration-color: #00d7ff\">None</span>, <span style=\"color: #00af00; text-decoration-color: #00af00\">111</span>, <span style=\"color: #00af00; text-decoration-color: #00af00\">111</span>, <span style=\"color: #00af00; text-decoration-color: #00af00\">32</span>)   │             <span style=\"color: #00af00; text-decoration-color: #00af00\">0</span> │\n",
       "├─────────────────────────────────┼────────────────────────┼───────────────┤\n",
       "│ conv2d_1 (<span style=\"color: #0087ff; text-decoration-color: #0087ff\">Conv2D</span>)               │ (<span style=\"color: #00d7ff; text-decoration-color: #00d7ff\">None</span>, <span style=\"color: #00af00; text-decoration-color: #00af00\">109</span>, <span style=\"color: #00af00; text-decoration-color: #00af00\">109</span>, <span style=\"color: #00af00; text-decoration-color: #00af00\">64</span>)   │        <span style=\"color: #00af00; text-decoration-color: #00af00\">18,496</span> │\n",
       "├─────────────────────────────────┼────────────────────────┼───────────────┤\n",
       "│ max_pooling2d_1 (<span style=\"color: #0087ff; text-decoration-color: #0087ff\">MaxPooling2D</span>)  │ (<span style=\"color: #00d7ff; text-decoration-color: #00d7ff\">None</span>, <span style=\"color: #00af00; text-decoration-color: #00af00\">54</span>, <span style=\"color: #00af00; text-decoration-color: #00af00\">54</span>, <span style=\"color: #00af00; text-decoration-color: #00af00\">64</span>)     │             <span style=\"color: #00af00; text-decoration-color: #00af00\">0</span> │\n",
       "├─────────────────────────────────┼────────────────────────┼───────────────┤\n",
       "│ flatten (<span style=\"color: #0087ff; text-decoration-color: #0087ff\">Flatten</span>)               │ (<span style=\"color: #00d7ff; text-decoration-color: #00d7ff\">None</span>, <span style=\"color: #00af00; text-decoration-color: #00af00\">186624</span>)         │             <span style=\"color: #00af00; text-decoration-color: #00af00\">0</span> │\n",
       "├─────────────────────────────────┼────────────────────────┼───────────────┤\n",
       "│ dense (<span style=\"color: #0087ff; text-decoration-color: #0087ff\">Dense</span>)                   │ (<span style=\"color: #00d7ff; text-decoration-color: #00d7ff\">None</span>, <span style=\"color: #00af00; text-decoration-color: #00af00\">128</span>)            │    <span style=\"color: #00af00; text-decoration-color: #00af00\">23,888,000</span> │\n",
       "├─────────────────────────────────┼────────────────────────┼───────────────┤\n",
       "│ dropout (<span style=\"color: #0087ff; text-decoration-color: #0087ff\">Dropout</span>)               │ (<span style=\"color: #00d7ff; text-decoration-color: #00d7ff\">None</span>, <span style=\"color: #00af00; text-decoration-color: #00af00\">128</span>)            │             <span style=\"color: #00af00; text-decoration-color: #00af00\">0</span> │\n",
       "├─────────────────────────────────┼────────────────────────┼───────────────┤\n",
       "│ dense_1 (<span style=\"color: #0087ff; text-decoration-color: #0087ff\">Dense</span>)                 │ (<span style=\"color: #00d7ff; text-decoration-color: #00d7ff\">None</span>, <span style=\"color: #00af00; text-decoration-color: #00af00\">1</span>)              │           <span style=\"color: #00af00; text-decoration-color: #00af00\">129</span> │\n",
       "└─────────────────────────────────┴────────────────────────┴───────────────┘\n",
       "</pre>\n"
      ],
      "text/plain": [
       "┏━━━━━━━━━━━━━━━━━━━━━━━━━━━━━━━━━┳━━━━━━━━━━━━━━━━━━━━━━━━┳━━━━━━━━━━━━━━━┓\n",
       "┃\u001b[1m \u001b[0m\u001b[1mLayer (type)                   \u001b[0m\u001b[1m \u001b[0m┃\u001b[1m \u001b[0m\u001b[1mOutput Shape          \u001b[0m\u001b[1m \u001b[0m┃\u001b[1m \u001b[0m\u001b[1m      Param #\u001b[0m\u001b[1m \u001b[0m┃\n",
       "┡━━━━━━━━━━━━━━━━━━━━━━━━━━━━━━━━━╇━━━━━━━━━━━━━━━━━━━━━━━━╇━━━━━━━━━━━━━━━┩\n",
       "│ conv2d (\u001b[38;5;33mConv2D\u001b[0m)                 │ (\u001b[38;5;45mNone\u001b[0m, \u001b[38;5;34m222\u001b[0m, \u001b[38;5;34m222\u001b[0m, \u001b[38;5;34m32\u001b[0m)   │           \u001b[38;5;34m896\u001b[0m │\n",
       "├─────────────────────────────────┼────────────────────────┼───────────────┤\n",
       "│ max_pooling2d (\u001b[38;5;33mMaxPooling2D\u001b[0m)    │ (\u001b[38;5;45mNone\u001b[0m, \u001b[38;5;34m111\u001b[0m, \u001b[38;5;34m111\u001b[0m, \u001b[38;5;34m32\u001b[0m)   │             \u001b[38;5;34m0\u001b[0m │\n",
       "├─────────────────────────────────┼────────────────────────┼───────────────┤\n",
       "│ conv2d_1 (\u001b[38;5;33mConv2D\u001b[0m)               │ (\u001b[38;5;45mNone\u001b[0m, \u001b[38;5;34m109\u001b[0m, \u001b[38;5;34m109\u001b[0m, \u001b[38;5;34m64\u001b[0m)   │        \u001b[38;5;34m18,496\u001b[0m │\n",
       "├─────────────────────────────────┼────────────────────────┼───────────────┤\n",
       "│ max_pooling2d_1 (\u001b[38;5;33mMaxPooling2D\u001b[0m)  │ (\u001b[38;5;45mNone\u001b[0m, \u001b[38;5;34m54\u001b[0m, \u001b[38;5;34m54\u001b[0m, \u001b[38;5;34m64\u001b[0m)     │             \u001b[38;5;34m0\u001b[0m │\n",
       "├─────────────────────────────────┼────────────────────────┼───────────────┤\n",
       "│ flatten (\u001b[38;5;33mFlatten\u001b[0m)               │ (\u001b[38;5;45mNone\u001b[0m, \u001b[38;5;34m186624\u001b[0m)         │             \u001b[38;5;34m0\u001b[0m │\n",
       "├─────────────────────────────────┼────────────────────────┼───────────────┤\n",
       "│ dense (\u001b[38;5;33mDense\u001b[0m)                   │ (\u001b[38;5;45mNone\u001b[0m, \u001b[38;5;34m128\u001b[0m)            │    \u001b[38;5;34m23,888,000\u001b[0m │\n",
       "├─────────────────────────────────┼────────────────────────┼───────────────┤\n",
       "│ dropout (\u001b[38;5;33mDropout\u001b[0m)               │ (\u001b[38;5;45mNone\u001b[0m, \u001b[38;5;34m128\u001b[0m)            │             \u001b[38;5;34m0\u001b[0m │\n",
       "├─────────────────────────────────┼────────────────────────┼───────────────┤\n",
       "│ dense_1 (\u001b[38;5;33mDense\u001b[0m)                 │ (\u001b[38;5;45mNone\u001b[0m, \u001b[38;5;34m1\u001b[0m)              │           \u001b[38;5;34m129\u001b[0m │\n",
       "└─────────────────────────────────┴────────────────────────┴───────────────┘\n"
      ]
     },
     "metadata": {},
     "output_type": "display_data"
    },
    {
     "data": {
      "text/html": [
       "<pre style=\"white-space:pre;overflow-x:auto;line-height:normal;font-family:Menlo,'DejaVu Sans Mono',consolas,'Courier New',monospace\"><span style=\"font-weight: bold\"> Total params: </span><span style=\"color: #00af00; text-decoration-color: #00af00\">23,907,521</span> (91.20 MB)\n",
       "</pre>\n"
      ],
      "text/plain": [
       "\u001b[1m Total params: \u001b[0m\u001b[38;5;34m23,907,521\u001b[0m (91.20 MB)\n"
      ]
     },
     "metadata": {},
     "output_type": "display_data"
    },
    {
     "data": {
      "text/html": [
       "<pre style=\"white-space:pre;overflow-x:auto;line-height:normal;font-family:Menlo,'DejaVu Sans Mono',consolas,'Courier New',monospace\"><span style=\"font-weight: bold\"> Trainable params: </span><span style=\"color: #00af00; text-decoration-color: #00af00\">23,907,521</span> (91.20 MB)\n",
       "</pre>\n"
      ],
      "text/plain": [
       "\u001b[1m Trainable params: \u001b[0m\u001b[38;5;34m23,907,521\u001b[0m (91.20 MB)\n"
      ]
     },
     "metadata": {},
     "output_type": "display_data"
    },
    {
     "data": {
      "text/html": [
       "<pre style=\"white-space:pre;overflow-x:auto;line-height:normal;font-family:Menlo,'DejaVu Sans Mono',consolas,'Courier New',monospace\"><span style=\"font-weight: bold\"> Non-trainable params: </span><span style=\"color: #00af00; text-decoration-color: #00af00\">0</span> (0.00 B)\n",
       "</pre>\n"
      ],
      "text/plain": [
       "\u001b[1m Non-trainable params: \u001b[0m\u001b[38;5;34m0\u001b[0m (0.00 B)\n"
      ]
     },
     "metadata": {},
     "output_type": "display_data"
    }
   ],
   "source": [
    "from tensorflow.keras.models import Sequential\n",
    "from tensorflow.keras.layers import Conv2D, MaxPooling2D, Flatten, Dense, Dropout\n",
    "\n",
    "# Define the CNN model\n",
    "cnn_model = Sequential([\n",
    "    Conv2D(32, (3, 3), activation='relu', input_shape=(224, 224, 3)),\n",
    "    MaxPooling2D((2, 2)),\n",
    "    Conv2D(64, (3, 3), activation='relu'),\n",
    "    MaxPooling2D((2, 2)),\n",
    "    Flatten(),\n",
    "    Dense(128, activation='relu'),\n",
    "    Dropout(0.5),  # Add dropout for regularization\n",
    "    Dense(1, activation='sigmoid')  # Binary classification\n",
    "])\n",
    "\n",
    "# Compile the model\n",
    "cnn_model.compile(optimizer='adam', loss='binary_crossentropy', metrics=['accuracy'])\n",
    "\n",
    "# Print the model summary\n",
    "cnn_model.summary()\n"
   ]
  },
  {
   "cell_type": "code",
   "execution_count": null,
   "id": "538cf7bc-4d17-42a4-9b04-21ad6d74396a",
   "metadata": {},
   "outputs": [],
   "source": [
    "from tensorflow.keras.models import Sequential\n",
    "from tensorflow.keras.layers import Conv2D, MaxPooling2D, Flatten, Dense, Dropout\n",
    "\n",
    "# Build the CNN model\n",
    "cnn_model = Sequential([\n",
    "    Conv2D(32, (3, 3), activation='relu', input_shape=(224, 224, 3)),\n",
    "    MaxPooling2D((2, 2)),\n",
    "    Conv2D(64, (3, 3), activation='relu'),\n",
    "    MaxPooling2D((2, 2)),\n",
    "    Flatten(),\n",
    "    Dense(128, activation='relu'),\n",
    "    Dropout(0.5),\n",
    "    Dense(1, activation='sigmoid')  # Binary classification\n",
    "])\n",
    "\n",
    "# Compile the model\n",
    "cnn_model.compile(optimizer='adam', loss='binary_crossentropy', metrics=['accuracy'])\n",
    "\n",
    "# Train the model\n",
    "history = cnn_model.fit(\n",
    "    train_generator,\n",
    "    steps_per_epoch=steps_per_epoch,\n",
    "    validation_data=val_generator,\n",
    "    validation_steps=validation_steps,\n",
    "    epochs=10  # Adjust as needed\n",
    ")\n",
    "\n",
    "print(\"Model training completed!\")\n"
   ]
  },
  {
   "cell_type": "code",
   "execution_count": 38,
   "id": "99bc7850-13f0-4a3d-bd20-44ff87e3b1ee",
   "metadata": {},
   "outputs": [
    {
     "name": "stderr",
     "output_type": "stream",
     "text": [
      "WARNING:absl:You are saving your model as an HDF5 file via `model.save()` or `keras.saving.save_model(model)`. This file format is considered legacy. We recommend using instead the native Keras format, e.g. `model.save('my_model.keras')` or `keras.saving.save_model(model, 'my_model.keras')`. \n"
     ]
    },
    {
     "name": "stdout",
     "output_type": "stream",
     "text": [
      "Model saved successfully!\n"
     ]
    }
   ],
   "source": [
    "cnn_model.save(\"cnn_model.h5\")\n",
    "print(\"Model saved successfully!\")"
   ]
  },
  {
   "cell_type": "code",
   "execution_count": 40,
   "id": "b8f4b626-4924-40f6-8b09-c6af0c1a89f2",
   "metadata": {},
   "outputs": [
    {
     "data": {
      "image/png": "[encoded data removed]",
      "text/plain": [
       "<Figure size 1200x600 with 1 Axes>"
      ]
     },
     "metadata": {},
     "output_type": "display_data"
    },
    {
     "data": {
      "image/png": "[encoded data removed]",
      "text/plain": [
       "<Figure size 1200x600 with 1 Axes>"
      ]
     },
     "metadata": {},
     "output_type": "display_data"
    }
   ],
   "source": [
    "import matplotlib.pyplot as plt\n",
    "\n",
    "# Plot training and validation accuracy\n",
    "plt.figure(figsize=(12, 6))\n",
    "plt.plot(history.history['accuracy'], label='Training Accuracy')\n",
    "plt.plot(history.history['val_accuracy'], label='Validation Accuracy')\n",
    "plt.title('Model Accuracy')\n",
    "plt.xlabel('Epochs')\n",
    "plt.ylabel('Accuracy')\n",
    "plt.legend()\n",
    "plt.show()\n",
    "\n",
    "# Plot training and validation loss\n",
    "plt.figure(figsize=(12, 6))\n",
    "plt.plot(history.history['loss'], label='Training Loss')\n",
    "plt.plot(history.history['val_loss'], label='Validation Loss')\n",
    "plt.title('Model Loss')\n",
    "plt.xlabel('Epochs')\n",
    "plt.ylabel('Loss')\n",
    "plt.legend()\n",
    "plt.show()\n"
   ]
  },
  {
   "cell_type": "code",
   "execution_count": 44,
   "id": "6ebd1697-172f-4150-9baa-291afb85137d",
   "metadata": {},
   "outputs": [
    {
     "name": "stderr",
     "output_type": "stream",
     "text": [
      "WARNING:absl:Compiled the loaded model, but the compiled metrics have yet to be built. `model.compile_metrics` will be empty until you train or evaluate the model.\n"
     ]
    },
    {
     "name": "stdout",
     "output_type": "stream",
     "text": [
      "Model loaded successfully!\n"
     ]
    }
   ],
   "source": [
    "from tensorflow.keras.models import load_model\n",
    "\n",
    "# Load the saved model\n",
    "loaded_model = load_model(\"cnn_model.h5\")\n",
    "print(\"Model loaded successfully!\")\n"
   ]
  },
  {
   "cell_type": "code",
   "execution_count": 48,
   "id": "d94689be-b220-439d-aca9-4141623eb567",
   "metadata": {},
   "outputs": [
    {
     "name": "stdout",
     "output_type": "stream",
     "text": [
      "Number of used IDs (training + validation): 100000\n"
     ]
    }
   ],
   "source": [
    "# Combine training and validation IDs\n",
    "used_ids = set(train_metadata['isic_id']).union(set(val_metadata['isic_id']))\n",
    "\n",
    "# Verify the size of the used IDs\n",
    "print(f\"Number of used IDs (training + validation): {len(used_ids)}\")"
   ]
  },
  {
   "cell_type": "code",
   "execution_count": 50,
   "id": "6ac3beeb-61b8-4412-bfb1-e41e52eb5af2",
   "metadata": {},
   "outputs": [
    {
     "name": "stdout",
     "output_type": "stream",
     "text": [
      "Remaining majority images after filtering: 350666\n"
     ]
    }
   ],
   "source": [
    "# Exclude training and validation IDs from the majority class\n",
    "remaining_majority = majority[~majority['isic_id'].isin(used_ids)]\n",
    "\n",
    "# Sample 50K unique images for testing\n",
    "test_majority_50k = remaining_majority.sample(n=50000, random_state=123)\n",
    "\n",
    "print(f\"Remaining majority images after filtering: {len(remaining_majority)}\")"
   ]
  },
  {
   "cell_type": "code",
   "execution_count": 53,
   "id": "294762ab-6750-471f-a7da-d72d7792bd9d",
   "metadata": {},
   "outputs": [
    {
     "name": "stdout",
     "output_type": "stream",
     "text": [
      "Remaining augmented images after filtering: 330205\n"
     ]
    }
   ],
   "source": [
    "# Exclude training and validation IDs from the augmented images\n",
    "remaining_augmented = augmented_metadata[~augmented_metadata['isic_id'].isin(used_ids)]\n",
    "\n",
    "# Sample 50K unique augmented images for testing\n",
    "test_minority_50k = remaining_augmented.sample(n=50000, random_state=123)\n",
    "\n",
    "print(f\"Remaining augmented images after filtering: {len(remaining_augmented)}\")\n"
   ]
  },
  {
   "cell_type": "code",
   "execution_count": 55,
   "id": "ac2098d6-27fa-4220-b378-6ce3567f4c35",
   "metadata": {},
   "outputs": [
    {
     "name": "stdout",
     "output_type": "stream",
     "text": [
      "Test Dataset Class Distribution:\n",
      "target\n",
      "0    50000\n",
      "1    50000\n",
      "Name: count, dtype: int64\n"
     ]
    }
   ],
   "source": [
    "# Combine majority and minority samples for the test dataset\n",
    "test_metadata = pd.concat([test_majority_50k, test_minority_50k]).reset_index(drop=True)\n",
    "\n",
    "# Shuffle the test dataset\n",
    "test_metadata = test_metadata.sample(frac=1, random_state=123).reset_index(drop=True)\n",
    "\n",
    "# Verify the class distribution\n",
    "print(\"Test Dataset Class Distribution:\")\n",
    "print(test_metadata['target'].value_counts())\n"
   ]
  },
  {
   "cell_type": "code",
   "execution_count": 57,
   "id": "fc6f867f-380e-47f3-9c89-c79b683d92ce",
   "metadata": {},
   "outputs": [
    {
     "name": "stdout",
     "output_type": "stream",
     "text": [
      "Number of overlapping IDs between test and train/validation: 0\n"
     ]
    }
   ],
   "source": [
    "# Verify no overlap\n",
    "overlap = set(test_metadata['isic_id']).intersection(used_ids)\n",
    "print(f\"Number of overlapping IDs between test and train/validation: {len(overlap)}\")\n",
    "assert len(overlap) == 0, \"Overlap detected between test and training/validation sets!\"\n"
   ]
  },
  {
   "cell_type": "code",
   "execution_count": 230,
   "id": "3828aa8f-f774-4a5c-b149-c3b2f014b40a",
   "metadata": {},
   "outputs": [
    {
     "name": "stdout",
     "output_type": "stream",
     "text": [
      "\u001b[1m3125/3125\u001b[0m \u001b[32m━━━━━━━━━━━━━━━━━━━━\u001b[0m\u001b[37m\u001b[0m \u001b[1m824s\u001b[0m 264ms/step - accuracy: 0.9939 - loss: 0.0300\n",
      "Test Loss: 0.0296\n",
      "Test Accuracy: 0.9941\n"
     ]
    }
   ],
   "source": [
    "# Add image paths to the test metadata\n",
    "test_metadata['image_path'] = test_metadata['isic_id'].apply(\n",
    "    lambda x: os.path.join(original_folder, f\"{x}.jpg\") if os.path.exists(os.path.join(original_folder, f\"{x}.jpg\"))\n",
    "    else os.path.join(augmented_folder, f\"{x}.jpg\")\n",
    ")\n",
    "\n",
    "# Define the test generator\n",
    "test_generator = data_generator(test_metadata, datagen, batch_size=32)\n",
    "test_steps = len(test_metadata) // 32\n",
    "\n",
    "# Evaluate the model\n",
    "test_loss, test_accuracy = cnn_model.evaluate(test_generator, steps=test_steps)\n",
    "print(f\"Test Loss: {test_loss:.4f}\")\n",
    "print(f\"Test Accuracy: {test_accuracy:.4f}\")\n"
   ]
  },
  {
   "cell_type": "code",
   "execution_count": null,
   "id": "0061b6ee-0e6d-483e-a056-2ba50c15b25f",
   "metadata": {},
   "outputs": [],
   "source": [
    "cnn_model.save(\"final_cnn_model.h5\")\n",
    "print(\"Final model saved successfully!\")"
   ]
  },
  {
   "cell_type": "markdown",
   "id": "3817f639-c0cf-410d-80bb-a2ed7d5f4502",
   "metadata": {},
   "source": [
    "## XGBoosting gradient boosting"
   ]
  },
  {
   "cell_type": "code",
   "execution_count": 41,
   "id": "3ae9c131-b1bb-44c5-8e5a-8e456be08a53",
   "metadata": {},
   "outputs": [
    {
     "name": "stdout",
     "output_type": "stream",
     "text": [
      "Training set: (70000, 43)\n",
      "Validation set: (15000, 43)\n",
      "Test set: (15000, 43)\n"
     ]
    }
   ],
   "source": [
    "import pandas as pd\n",
    "import numpy as np\n",
    "from sklearn.model_selection import train_test_split\n",
    "from sklearn.metrics import accuracy_score, f1_score, classification_report, confusion_matrix\n",
    "import xgboost as xgb\n",
    "\n",
    "# Use the cleaned and balanced metadata\n",
    "balanced_metadata = balanced_metadata.copy()\n",
    "\n",
    "# Drop unnecessary columns and ensure no objects exist\n",
    "columns_to_drop = ['isic_id', 'patient_id', 'image_path', 'attribution', \n",
    "                   'copyright_license', 'lesion_id', 'iddx_full', 'iddx_2', \n",
    "                   'iddx_3', 'iddx_4', 'iddx_5', 'mel_mitotic_index']\n",
    "metadata_features = balanced_metadata.drop(columns=columns_to_drop + ['target'], errors='ignore')\n",
    "\n",
    "# Handle any remaining missing values\n",
    "metadata_features = metadata_features.fillna(0)\n",
    "\n",
    "# Target variable\n",
    "y = balanced_metadata['target']\n",
    "\n",
    "# Split into train, validation, and test sets\n",
    "X_train, X_temp, y_train, y_temp = train_test_split(metadata_features, y, test_size=0.3, random_state=42, stratify=y)\n",
    "X_val, X_test, y_val, y_test = train_test_split(X_temp, y_temp, test_size=0.5, random_state=42, stratify=y_temp)\n",
    "\n",
    "print(f\"Training set: {X_train.shape}\")\n",
    "print(f\"Validation set: {X_val.shape}\")\n",
    "print(f\"Test set: {X_test.shape}\")\n"
   ]
  },
  {
   "cell_type": "code",
   "execution_count": 51,
   "id": "337b6625-faa0-4c22-8f7f-229d1c101c99",
   "metadata": {},
   "outputs": [],
   "source": [
    "import pandas as pd\n",
    "import numpy as np\n",
    "from sklearn.model_selection import train_test_split\n",
    "from sklearn.metrics import accuracy_score, f1_score, classification_report, confusion_matrix\n",
    "import xgboost as xgb\n",
    "\n",
    "# Make a copy of the cleaned and preprocessed metadata\n",
    "cleaned_metadata = balanced_metadata.copy()\n",
    "\n",
    "# Drop unnecessary columns\n",
    "columns_to_drop = ['isic_id', 'patient_id', 'attribution', 'copyright_license', 'lesion_id',\n",
    "                   'iddx_full', 'iddx_2', 'iddx_3', 'iddx_4', 'iddx_5', 'mel_mitotic_index', 'image_path']\n",
    "metadata = cleaned_metadata.drop(columns=columns_to_drop, errors='ignore')\n",
    "\n",
    "# Handle categorical variables with one-hot encoding\n",
    "categorical_columns = ['sex', 'anatom_site_general', 'image_type', 'tbp_tile_type', 'tbp_lv_location', \n",
    "                       'tbp_lv_location_simple', 'iddx_1']\n",
    "metadata = pd.get_dummies(metadata, columns=categorical_columns, drop_first=True)\n",
    "\n",
    "# Ensure no missing values\n",
    "metadata = metadata.fillna(0)"
   ]
  },
  {
   "cell_type": "code",
   "execution_count": 53,
   "id": "db22003b-f208-4b97-8581-ed4f98c91872",
   "metadata": {},
   "outputs": [
    {
     "name": "stdout",
     "output_type": "stream",
     "text": [
      "Training set: (70000, 70)\n",
      "Validation set: (15000, 70)\n",
      "Test set: (15000, 70)\n"
     ]
    }
   ],
   "source": [
    "# Extract features and target\n",
    "X = metadata.drop(columns=['target'])\n",
    "y = metadata['target']\n",
    "\n",
    "# Split into train, validation, and test sets\n",
    "X_train, X_temp, y_train, y_temp = train_test_split(X, y, test_size=0.3, random_state=42, stratify=y)\n",
    "X_val, X_test, y_val, y_test = train_test_split(X_temp, y_temp, test_size=0.5, random_state=42, stratify=y_temp)\n",
    "\n",
    "print(f\"Training set: {X_train.shape}\")\n",
    "print(f\"Validation set: {X_val.shape}\")\n",
    "print(f\"Test set: {X_test.shape}\")"
   ]
  },
  {
   "cell_type": "code",
   "execution_count": 55,
   "id": "65603c11-1c7f-40a9-b194-d6e87c8b94b0",
   "metadata": {},
   "outputs": [
    {
     "name": "stdout",
     "output_type": "stream",
     "text": [
      "[0]\tvalidation_0-logloss:0.59815\n",
      "[1]\tvalidation_0-logloss:0.52035\n",
      "[2]\tvalidation_0-logloss:0.45547\n",
      "[3]\tvalidation_0-logloss:0.40063\n",
      "[4]\tvalidation_0-logloss:0.35378\n",
      "[5]\tvalidation_0-logloss:0.31343\n",
      "[6]\tvalidation_0-logloss:0.27843\n",
      "[7]\tvalidation_0-logloss:0.24790\n",
      "[8]\tvalidation_0-logloss:0.22114\n",
      "[9]\tvalidation_0-logloss:0.19760\n",
      "[10]\tvalidation_0-logloss:0.17683\n",
      "[11]\tvalidation_0-logloss:0.15843\n",
      "[12]\tvalidation_0-logloss:0.14210\n",
      "[13]\tvalidation_0-logloss:0.12758\n",
      "[14]\tvalidation_0-logloss:0.11464\n",
      "[15]\tvalidation_0-logloss:0.10309\n",
      "[16]\tvalidation_0-logloss:0.09276\n",
      "[17]\tvalidation_0-logloss:0.08351\n",
      "[18]\tvalidation_0-logloss:0.07523\n"
     ]
    },
    {
     "name": "stderr",
     "output_type": "stream",
     "text": [
      "C:\\Users\\ASUS\\anaconda3\\Lib\\site-packages\\xgboost\\core.py:158: UserWarning: [04:25:47] WARNING: C:\\buildkite-agent\\builds\\buildkite-windows-cpu-autoscaling-group-i-0ed59c031377d09b8-1\\xgboost\\xgboost-ci-windows\\src\\learner.cc:740: \n",
      "Parameters: { \"use_label_encoder\" } are not used.\n",
      "\n",
      "  warnings.warn(smsg, UserWarning)\n"
     ]
    },
    {
     "name": "stdout",
     "output_type": "stream",
     "text": [
      "[19]\tvalidation_0-logloss:0.06780\n",
      "[20]\tvalidation_0-logloss:0.06113\n",
      "[21]\tvalidation_0-logloss:0.05514\n",
      "[22]\tvalidation_0-logloss:0.04975\n",
      "[23]\tvalidation_0-logloss:0.04490\n",
      "[24]\tvalidation_0-logloss:0.04053\n",
      "[25]\tvalidation_0-logloss:0.03660\n",
      "[26]\tvalidation_0-logloss:0.03306\n",
      "[27]\tvalidation_0-logloss:0.02986\n",
      "[28]\tvalidation_0-logloss:0.02698\n",
      "[29]\tvalidation_0-logloss:0.02438\n",
      "[30]\tvalidation_0-logloss:0.02204\n",
      "[31]\tvalidation_0-logloss:0.01992\n",
      "[32]\tvalidation_0-logloss:0.01801\n",
      "[33]\tvalidation_0-logloss:0.01628\n",
      "[34]\tvalidation_0-logloss:0.01473\n",
      "[35]\tvalidation_0-logloss:0.01332\n",
      "[36]\tvalidation_0-logloss:0.01205\n",
      "[37]\tvalidation_0-logloss:0.01090\n",
      "[38]\tvalidation_0-logloss:0.00986\n",
      "[39]\tvalidation_0-logloss:0.00892\n",
      "[40]\tvalidation_0-logloss:0.00807\n",
      "[41]\tvalidation_0-logloss:0.00730\n",
      "[42]\tvalidation_0-logloss:0.00661\n",
      "[43]\tvalidation_0-logloss:0.00598\n",
      "[44]\tvalidation_0-logloss:0.00542\n",
      "[45]\tvalidation_0-logloss:0.00491\n",
      "[46]\tvalidation_0-logloss:0.00445\n",
      "[47]\tvalidation_0-logloss:0.00403\n",
      "[48]\tvalidation_0-logloss:0.00365\n",
      "[49]\tvalidation_0-logloss:0.00331\n",
      "[50]\tvalidation_0-logloss:0.00300\n",
      "[51]\tvalidation_0-logloss:0.00272\n",
      "[52]\tvalidation_0-logloss:0.00246\n",
      "[53]\tvalidation_0-logloss:0.00223\n",
      "[54]\tvalidation_0-logloss:0.00202\n",
      "[55]\tvalidation_0-logloss:0.00184\n",
      "[56]\tvalidation_0-logloss:0.00167\n",
      "[57]\tvalidation_0-logloss:0.00151\n",
      "[58]\tvalidation_0-logloss:0.00137\n",
      "[59]\tvalidation_0-logloss:0.00124\n",
      "[60]\tvalidation_0-logloss:0.00113\n",
      "[61]\tvalidation_0-logloss:0.00103\n",
      "[62]\tvalidation_0-logloss:0.00093\n",
      "[63]\tvalidation_0-logloss:0.00085\n",
      "[64]\tvalidation_0-logloss:0.00077\n",
      "[65]\tvalidation_0-logloss:0.00070\n",
      "[66]\tvalidation_0-logloss:0.00064\n",
      "[67]\tvalidation_0-logloss:0.00058\n",
      "[68]\tvalidation_0-logloss:0.00053\n",
      "[69]\tvalidation_0-logloss:0.00048\n",
      "[70]\tvalidation_0-logloss:0.00044\n",
      "[71]\tvalidation_0-logloss:0.00040\n",
      "[72]\tvalidation_0-logloss:0.00036\n",
      "[73]\tvalidation_0-logloss:0.00033\n",
      "[74]\tvalidation_0-logloss:0.00030\n",
      "[75]\tvalidation_0-logloss:0.00028\n",
      "[76]\tvalidation_0-logloss:0.00025\n",
      "[77]\tvalidation_0-logloss:0.00023\n",
      "[78]\tvalidation_0-logloss:0.00021\n",
      "[79]\tvalidation_0-logloss:0.00019\n",
      "[80]\tvalidation_0-logloss:0.00018\n",
      "[81]\tvalidation_0-logloss:0.00016\n",
      "[82]\tvalidation_0-logloss:0.00015\n",
      "[83]\tvalidation_0-logloss:0.00014\n",
      "[84]\tvalidation_0-logloss:0.00013\n",
      "[85]\tvalidation_0-logloss:0.00012\n",
      "[86]\tvalidation_0-logloss:0.00011\n",
      "[87]\tvalidation_0-logloss:0.00010\n",
      "[88]\tvalidation_0-logloss:0.00009\n",
      "[89]\tvalidation_0-logloss:0.00009\n",
      "[90]\tvalidation_0-logloss:0.00008\n",
      "[91]\tvalidation_0-logloss:0.00007\n",
      "[92]\tvalidation_0-logloss:0.00007\n",
      "[93]\tvalidation_0-logloss:0.00007\n",
      "[94]\tvalidation_0-logloss:0.00006\n",
      "[95]\tvalidation_0-logloss:0.00006\n",
      "[96]\tvalidation_0-logloss:0.00005\n",
      "[97]\tvalidation_0-logloss:0.00005\n",
      "[98]\tvalidation_0-logloss:0.00005\n",
      "[99]\tvalidation_0-logloss:0.00004\n"
     ]
    }
   ],
   "source": [
    "# Initialize XGBoost Classifier\n",
    "xgb_model = xgb.XGBClassifier(\n",
    "    objective='binary:logistic',\n",
    "    eval_metric='logloss',\n",
    "    use_label_encoder=False,\n",
    "    random_state=42,\n",
    "    n_estimators=100,\n",
    "    learning_rate=0.1,\n",
    "    max_depth=6\n",
    ")\n",
    "\n",
    "# Train the model\n",
    "xgb_model.fit(X_train, y_train, eval_set=[(X_val, y_val)], verbose=True)\n",
    "\n",
    "# Predict and evaluate on the test set\n",
    "y_pred = xgb_model.predict(X_test)"
   ]
  },
  {
   "cell_type": "code",
   "execution_count": 57,
   "id": "4c6e0b42-6be3-4295-8a7b-dcaf26b62730",
   "metadata": {},
   "outputs": [
    {
     "name": "stdout",
     "output_type": "stream",
     "text": [
      "Test Accuracy: 1.0000\n",
      "F1 Score: 1.0000\n",
      "Classification Report:\n",
      "               precision    recall  f1-score   support\n",
      "\n",
      "           0       1.00      1.00      1.00      7500\n",
      "           1       1.00      1.00      1.00      7500\n",
      "\n",
      "    accuracy                           1.00     15000\n",
      "   macro avg       1.00      1.00      1.00     15000\n",
      "weighted avg       1.00      1.00      1.00     15000\n",
      "\n",
      "Confusion Matrix:\n",
      " [[7500    0]\n",
      " [   0 7500]]\n"
     ]
    },
    {
     "data": {
      "image/png": "[encoded data removed]",
      "text/plain": [
       "<Figure size 640x480 with 1 Axes>"
      ]
     },
     "metadata": {},
     "output_type": "display_data"
    }
   ],
   "source": [
    "# Evaluate the model\n",
    "accuracy = accuracy_score(y_test, y_pred)\n",
    "f1 = f1_score(y_test, y_pred)\n",
    "print(f\"Test Accuracy: {accuracy:.4f}\")\n",
    "print(f\"F1 Score: {f1:.4f}\")\n",
    "print(\"Classification Report:\\n\", classification_report(y_test, y_pred))\n",
    "print(\"Confusion Matrix:\\n\", confusion_matrix(y_test, y_pred))\n",
    "\n",
    "# Feature importance visualization\n",
    "import matplotlib.pyplot as plt\n",
    "\n",
    "xgb.plot_importance(xgb_model, max_num_features=10, importance_type='weight')\n",
    "plt.title(\"Top 10 Feature Importance\")\n",
    "plt.show()\n"
   ]
  },
  {
   "cell_type": "code",
   "execution_count": null,
   "id": "49e9512e-6c11-42d6-9b80-8320c4e8ee43",
   "metadata": {},
   "outputs": [],
   "source": []
  }
 ],
 "metadata": {
  "kernelspec": {
   "display_name": "Python 3 (ipykernel)",
   "language": "python",
   "name": "python3"
  },
  "language_info": {
   "codemirror_mode": {
    "name": "ipython",
    "version": 3
   },
   "file_extension": ".py",
   "mimetype": "text/x-python",
   "name": "python",
   "nbconvert_exporter": "python",
   "pygments_lexer": "ipython3",
   "version": "3.12.4"
  }
 },
 "nbformat": 4,
 "nbformat_minor": 5
}
